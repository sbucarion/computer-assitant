{
 "cells": [
  {
   "cell_type": "code",
   "execution_count": 63,
   "id": "fc93d8d9",
   "metadata": {},
   "outputs": [
    {
     "ename": "NoSuchElementException",
     "evalue": "Message: no such element: Unable to locate element: {\"method\":\"css selector\",\"selector\":\".menu-item pa-3 mt-3 v-card v-card--link v-sheet v-sheet--tile theme--lightrow ml-0 text-dark-grey\"}\n  (Session info: chrome=109.0.5414.74)\nStacktrace:\nBacktrace:\n\t(No symbol) [0x00816643]\n\t(No symbol) [0x007ABE21]\n\t(No symbol) [0x006ADA9D]\n\t(No symbol) [0x006E1342]\n\t(No symbol) [0x006E147B]\n\t(No symbol) [0x00718DC2]\n\t(No symbol) [0x006FFDC4]\n\t(No symbol) [0x00716B09]\n\t(No symbol) [0x006FFB76]\n\t(No symbol) [0x006D49C1]\n\t(No symbol) [0x006D5E5D]\n\tGetHandleVerifier [0x00A8A142+2497106]\n\tGetHandleVerifier [0x00AB85D3+2686691]\n\tGetHandleVerifier [0x00ABBB9C+2700460]\n\tGetHandleVerifier [0x008C3B10+635936]\n\t(No symbol) [0x007B4A1F]\n\t(No symbol) [0x007BA418]\n\t(No symbol) [0x007BA505]\n\t(No symbol) [0x007C508B]\n\tBaseThreadInitThunk [0x77D2FA29+25]\n\tRtlGetAppContainerNamedObjectPath [0x77E97BBE+286]\n\tRtlGetAppContainerNamedObjectPath [0x77E97B8E+238]\n",
     "output_type": "error",
     "traceback": [
      "\u001b[1;31m---------------------------------------------------------------------------\u001b[0m",
      "\u001b[1;31mNoSuchElementException\u001b[0m                    Traceback (most recent call last)",
      "\u001b[1;32m~\\AppData\\Local\\Temp\\ipykernel_17400\\3638319814.py\u001b[0m in \u001b[0;36m<module>\u001b[1;34m\u001b[0m\n\u001b[0;32m     38\u001b[0m \u001b[0mdriver\u001b[0m\u001b[1;33m.\u001b[0m\u001b[0mfind_element\u001b[0m\u001b[1;33m(\u001b[0m\u001b[0mby\u001b[0m\u001b[1;33m=\u001b[0m\u001b[0mBy\u001b[0m\u001b[1;33m.\u001b[0m\u001b[0mID\u001b[0m\u001b[1;33m,\u001b[0m \u001b[0mvalue\u001b[0m\u001b[1;33m=\u001b[0m\u001b[1;34m\"brand-label-8\"\u001b[0m\u001b[1;33m)\u001b[0m\u001b[1;33m.\u001b[0m\u001b[0mclick\u001b[0m\u001b[1;33m(\u001b[0m\u001b[1;33m)\u001b[0m\u001b[1;33m\u001b[0m\u001b[1;33m\u001b[0m\u001b[0m\n\u001b[0;32m     39\u001b[0m \u001b[0mtime\u001b[0m\u001b[1;33m.\u001b[0m\u001b[0msleep\u001b[0m\u001b[1;33m(\u001b[0m\u001b[1;36m2\u001b[0m\u001b[1;33m)\u001b[0m\u001b[1;33m\u001b[0m\u001b[1;33m\u001b[0m\u001b[0m\n\u001b[1;32m---> 40\u001b[1;33m \u001b[0mdriver\u001b[0m\u001b[1;33m.\u001b[0m\u001b[0mfind_element\u001b[0m\u001b[1;33m(\u001b[0m\u001b[0mby\u001b[0m\u001b[1;33m=\u001b[0m\u001b[0mBy\u001b[0m\u001b[1;33m.\u001b[0m\u001b[0mCLASS_NAME\u001b[0m\u001b[1;33m,\u001b[0m \u001b[0mvalue\u001b[0m\u001b[1;33m=\u001b[0m\u001b[1;34m\"menu-item pa-3 mt-3 v-card v-card--link v-sheet v-sheet--tile theme--lightrow ml-0 text-dark-grey\"\u001b[0m\u001b[1;33m)\u001b[0m\u001b[1;33m.\u001b[0m\u001b[0mclick\u001b[0m\u001b[1;33m(\u001b[0m\u001b[1;33m)\u001b[0m\u001b[1;33m\u001b[0m\u001b[1;33m\u001b[0m\u001b[0m\n\u001b[0m",
      "\u001b[1;32m~\\Anaconda3\\lib\\site-packages\\selenium\\webdriver\\remote\\webdriver.py\u001b[0m in \u001b[0;36mfind_element\u001b[1;34m(self, by, value)\u001b[0m\n\u001b[0;32m    859\u001b[0m             \u001b[0mvalue\u001b[0m \u001b[1;33m=\u001b[0m \u001b[1;34m'[name=\"%s\"]'\u001b[0m \u001b[1;33m%\u001b[0m \u001b[0mvalue\u001b[0m\u001b[1;33m\u001b[0m\u001b[1;33m\u001b[0m\u001b[0m\n\u001b[0;32m    860\u001b[0m \u001b[1;33m\u001b[0m\u001b[0m\n\u001b[1;32m--> 861\u001b[1;33m         \u001b[1;32mreturn\u001b[0m \u001b[0mself\u001b[0m\u001b[1;33m.\u001b[0m\u001b[0mexecute\u001b[0m\u001b[1;33m(\u001b[0m\u001b[0mCommand\u001b[0m\u001b[1;33m.\u001b[0m\u001b[0mFIND_ELEMENT\u001b[0m\u001b[1;33m,\u001b[0m \u001b[1;33m{\u001b[0m\u001b[1;34m\"using\"\u001b[0m\u001b[1;33m:\u001b[0m \u001b[0mby\u001b[0m\u001b[1;33m,\u001b[0m \u001b[1;34m\"value\"\u001b[0m\u001b[1;33m:\u001b[0m \u001b[0mvalue\u001b[0m\u001b[1;33m}\u001b[0m\u001b[1;33m)\u001b[0m\u001b[1;33m[\u001b[0m\u001b[1;34m\"value\"\u001b[0m\u001b[1;33m]\u001b[0m\u001b[1;33m\u001b[0m\u001b[1;33m\u001b[0m\u001b[0m\n\u001b[0m\u001b[0;32m    862\u001b[0m \u001b[1;33m\u001b[0m\u001b[0m\n\u001b[0;32m    863\u001b[0m     \u001b[1;32mdef\u001b[0m \u001b[0mfind_elements\u001b[0m\u001b[1;33m(\u001b[0m\u001b[0mself\u001b[0m\u001b[1;33m,\u001b[0m \u001b[0mby\u001b[0m\u001b[1;33m=\u001b[0m\u001b[0mBy\u001b[0m\u001b[1;33m.\u001b[0m\u001b[0mID\u001b[0m\u001b[1;33m,\u001b[0m \u001b[0mvalue\u001b[0m\u001b[1;33m:\u001b[0m \u001b[0mOptional\u001b[0m\u001b[1;33m[\u001b[0m\u001b[0mstr\u001b[0m\u001b[1;33m]\u001b[0m \u001b[1;33m=\u001b[0m \u001b[1;32mNone\u001b[0m\u001b[1;33m)\u001b[0m \u001b[1;33m->\u001b[0m \u001b[0mList\u001b[0m\u001b[1;33m[\u001b[0m\u001b[0mWebElement\u001b[0m\u001b[1;33m]\u001b[0m\u001b[1;33m:\u001b[0m\u001b[1;33m\u001b[0m\u001b[1;33m\u001b[0m\u001b[0m\n",
      "\u001b[1;32m~\\Anaconda3\\lib\\site-packages\\selenium\\webdriver\\remote\\webdriver.py\u001b[0m in \u001b[0;36mexecute\u001b[1;34m(self, driver_command, params)\u001b[0m\n\u001b[0;32m    442\u001b[0m         \u001b[0mresponse\u001b[0m \u001b[1;33m=\u001b[0m \u001b[0mself\u001b[0m\u001b[1;33m.\u001b[0m\u001b[0mcommand_executor\u001b[0m\u001b[1;33m.\u001b[0m\u001b[0mexecute\u001b[0m\u001b[1;33m(\u001b[0m\u001b[0mdriver_command\u001b[0m\u001b[1;33m,\u001b[0m \u001b[0mparams\u001b[0m\u001b[1;33m)\u001b[0m\u001b[1;33m\u001b[0m\u001b[1;33m\u001b[0m\u001b[0m\n\u001b[0;32m    443\u001b[0m         \u001b[1;32mif\u001b[0m \u001b[0mresponse\u001b[0m\u001b[1;33m:\u001b[0m\u001b[1;33m\u001b[0m\u001b[1;33m\u001b[0m\u001b[0m\n\u001b[1;32m--> 444\u001b[1;33m             \u001b[0mself\u001b[0m\u001b[1;33m.\u001b[0m\u001b[0merror_handler\u001b[0m\u001b[1;33m.\u001b[0m\u001b[0mcheck_response\u001b[0m\u001b[1;33m(\u001b[0m\u001b[0mresponse\u001b[0m\u001b[1;33m)\u001b[0m\u001b[1;33m\u001b[0m\u001b[1;33m\u001b[0m\u001b[0m\n\u001b[0m\u001b[0;32m    445\u001b[0m             \u001b[0mresponse\u001b[0m\u001b[1;33m[\u001b[0m\u001b[1;34m\"value\"\u001b[0m\u001b[1;33m]\u001b[0m \u001b[1;33m=\u001b[0m \u001b[0mself\u001b[0m\u001b[1;33m.\u001b[0m\u001b[0m_unwrap_value\u001b[0m\u001b[1;33m(\u001b[0m\u001b[0mresponse\u001b[0m\u001b[1;33m.\u001b[0m\u001b[0mget\u001b[0m\u001b[1;33m(\u001b[0m\u001b[1;34m\"value\"\u001b[0m\u001b[1;33m,\u001b[0m \u001b[1;32mNone\u001b[0m\u001b[1;33m)\u001b[0m\u001b[1;33m)\u001b[0m\u001b[1;33m\u001b[0m\u001b[1;33m\u001b[0m\u001b[0m\n\u001b[0;32m    446\u001b[0m             \u001b[1;32mreturn\u001b[0m \u001b[0mresponse\u001b[0m\u001b[1;33m\u001b[0m\u001b[1;33m\u001b[0m\u001b[0m\n",
      "\u001b[1;32m~\\Anaconda3\\lib\\site-packages\\selenium\\webdriver\\remote\\errorhandler.py\u001b[0m in \u001b[0;36mcheck_response\u001b[1;34m(self, response)\u001b[0m\n\u001b[0;32m    247\u001b[0m                 \u001b[0malert_text\u001b[0m \u001b[1;33m=\u001b[0m \u001b[0mvalue\u001b[0m\u001b[1;33m[\u001b[0m\u001b[1;34m\"alert\"\u001b[0m\u001b[1;33m]\u001b[0m\u001b[1;33m.\u001b[0m\u001b[0mget\u001b[0m\u001b[1;33m(\u001b[0m\u001b[1;34m\"text\"\u001b[0m\u001b[1;33m)\u001b[0m\u001b[1;33m\u001b[0m\u001b[1;33m\u001b[0m\u001b[0m\n\u001b[0;32m    248\u001b[0m             \u001b[1;32mraise\u001b[0m \u001b[0mexception_class\u001b[0m\u001b[1;33m(\u001b[0m\u001b[0mmessage\u001b[0m\u001b[1;33m,\u001b[0m \u001b[0mscreen\u001b[0m\u001b[1;33m,\u001b[0m \u001b[0mstacktrace\u001b[0m\u001b[1;33m,\u001b[0m \u001b[0malert_text\u001b[0m\u001b[1;33m)\u001b[0m  \u001b[1;31m# type: ignore[call-arg]  # mypy is not smart enough here\u001b[0m\u001b[1;33m\u001b[0m\u001b[1;33m\u001b[0m\u001b[0m\n\u001b[1;32m--> 249\u001b[1;33m         \u001b[1;32mraise\u001b[0m \u001b[0mexception_class\u001b[0m\u001b[1;33m(\u001b[0m\u001b[0mmessage\u001b[0m\u001b[1;33m,\u001b[0m \u001b[0mscreen\u001b[0m\u001b[1;33m,\u001b[0m \u001b[0mstacktrace\u001b[0m\u001b[1;33m)\u001b[0m\u001b[1;33m\u001b[0m\u001b[1;33m\u001b[0m\u001b[0m\n\u001b[0m",
      "\u001b[1;31mNoSuchElementException\u001b[0m: Message: no such element: Unable to locate element: {\"method\":\"css selector\",\"selector\":\".menu-item pa-3 mt-3 v-card v-card--link v-sheet v-sheet--tile theme--lightrow ml-0 text-dark-grey\"}\n  (Session info: chrome=109.0.5414.74)\nStacktrace:\nBacktrace:\n\t(No symbol) [0x00816643]\n\t(No symbol) [0x007ABE21]\n\t(No symbol) [0x006ADA9D]\n\t(No symbol) [0x006E1342]\n\t(No symbol) [0x006E147B]\n\t(No symbol) [0x00718DC2]\n\t(No symbol) [0x006FFDC4]\n\t(No symbol) [0x00716B09]\n\t(No symbol) [0x006FFB76]\n\t(No symbol) [0x006D49C1]\n\t(No symbol) [0x006D5E5D]\n\tGetHandleVerifier [0x00A8A142+2497106]\n\tGetHandleVerifier [0x00AB85D3+2686691]\n\tGetHandleVerifier [0x00ABBB9C+2700460]\n\tGetHandleVerifier [0x008C3B10+635936]\n\t(No symbol) [0x007B4A1F]\n\t(No symbol) [0x007BA418]\n\t(No symbol) [0x007BA505]\n\t(No symbol) [0x007C508B]\n\tBaseThreadInitThunk [0x77D2FA29+25]\n\tRtlGetAppContainerNamedObjectPath [0x77E97BBE+286]\n\tRtlGetAppContainerNamedObjectPath [0x77E97B8E+238]\n"
     ]
    }
   ],
   "source": [
    "from selenium import webdriver\n",
    "import time\n",
    "from selenium.webdriver.common.by import By\n",
    "from selenium import webdriver\n",
    "from selenium.webdriver.chrome.service import Service\n",
    "from webdriver_manager.chrome import ChromeDriverManager\n",
    "import pyautogui\n",
    "from cryptography.fernet import Fernet\n",
    "\n",
    "key = b'hY5a-jKe5USFU2INqULBoSfwgks4HslLljgOJRZoYHE='\n",
    "encoded_password = b'gAAAAABjxItEeB5NTEEB13-TNz-KdeScQlgHN3EwcGZcm6S1HHnvPUPoZoi0z9cQuUbF4JOU7pV_a0lsSpe2ffXiL2DLLMyiUQ=='\n",
    "cipher_suite = Fernet(key)\n",
    "decoded_text = cipher_suite.decrypt(encoded_password)\n",
    "\n",
    "BOOST_USER = \"sbucarion1@babson.edu\"\n",
    "BOOST_PASS = str(decoded_text)[2:-1]\n",
    "\n",
    "driver = webdriver.Chrome(service=Service(ChromeDriverManager().install()))\n",
    "driver.get(\"https://boostapp.io/\")\n",
    "\n",
    "time.sleep(2)\n",
    "\n",
    "driver.find_element(by=By.ID, value=\"qa-nav-log-in-btn\").click()\n",
    "\n",
    "time.sleep(2)\n",
    "\n",
    "#Input login data\n",
    "input_email = driver.find_element(by=By.ID , value=\"login-Email\").click()\n",
    "pyautogui.typewrite(BOOST_USER)\n",
    "\n",
    "input_email = driver.find_element(by=By.ID , value=\"login-Password\").click()\n",
    "pyautogui.typewrite(BOOST_PASS)\n",
    "\n",
    "driver.find_element(by=By.ID, value=\"log-in-btn\").click()\n",
    "\n",
    "time.sleep(2)\n",
    "\n",
    "driver.find_element(by=By.ID, value=\"brand-label-8\").click()\n",
    "time.sleep(2)\n",
    "driver.find_element(by=By.CLASS_NAME, value=\"menu-item pa-3 mt-3 v-card v-card--link v-sheet v-sheet--tile theme--lightrow ml-0 text-dark-grey\").click()"
   ]
  },
  {
   "cell_type": "code",
   "execution_count": 65,
   "id": "e320cfea",
   "metadata": {},
   "outputs": [],
   "source": [
    "import time\n",
    "import ctypes\n",
    "import win32api, win32con\n",
    "def screen_off():\n",
    "    ctypes.windll.user32.SendMessageW(65535, 274, 61808, 2)\n",
    "def screen_on():\n",
    "    ctypes.windll.user32.SendMessageW(65535, 274, 61808, -1)\n",
    "    move_cursor()\n",
    "def move_cursor():\n",
    "    x, y = (0,0)\n",
    "    win32api.mouse_event(win32con.MOUSEEVENTF_MOVE, x, y)\n",
    "\n",
    "screen_off()\n",
    "time.sleep(1)\n",
    "screen_on()"
   ]
  },
  {
   "cell_type": "code",
   "execution_count": 67,
   "id": "9d819e56",
   "metadata": {},
   "outputs": [
    {
     "data": {
      "text/plain": [
       "(1, 0)"
      ]
     },
     "execution_count": 67,
     "metadata": {},
     "output_type": "execute_result"
    }
   ],
   "source": [
    "    import win32gui\n",
    "    import win32con\n",
    "    SC_MONITORPOWER = 0xF170\n",
    "    win32gui.SendMessageTimeout(win32con.HWND_BROADCAST,\n",
    "        win32con.WM_SYSCOMMAND, \n",
    "        SC_MONITORPOWER, 2, \n",
    "        win32con.SMTO_NOTIMEOUTIFNOTHUNG, \n",
    "        1000)"
   ]
  },
  {
   "cell_type": "code",
   "execution_count": 69,
   "id": "f8ae4d3a",
   "metadata": {},
   "outputs": [
    {
     "data": {
      "text/plain": [
       "0"
      ]
     },
     "execution_count": 69,
     "metadata": {},
     "output_type": "execute_result"
    }
   ],
   "source": [
    "import os\n",
    "os.system(\"rundll32.exe powrprof.dll,SetSuspendState 0,1,0\")"
   ]
  },
  {
   "cell_type": "code",
   "execution_count": 22,
   "id": "539dc1fd",
   "metadata": {},
   "outputs": [],
   "source": [
    "from cryptography.fernet import Fernet"
   ]
  },
  {
   "cell_type": "code",
   "execution_count": 51,
   "id": "5c6be2f8",
   "metadata": {},
   "outputs": [
    {
     "data": {
      "text/plain": [
       "b'hY5a-jKe5USFU2INqULBoSfwgks4HslLljgOJRZoYHE='"
      ]
     },
     "execution_count": 51,
     "metadata": {},
     "output_type": "execute_result"
    }
   ],
   "source": [
    "key"
   ]
  },
  {
   "cell_type": "code",
   "execution_count": 52,
   "id": "63c37607",
   "metadata": {},
   "outputs": [
    {
     "data": {
      "text/plain": [
       "b'gAAAAABjxItEeB5NTEEB13-TNz-KdeScQlgHN3EwcGZcm6S1HHnvPUPoZoi0z9cQuUbF4JOU7pV_a0lsSpe2ffXiL2DLLMyiUQ=='"
      ]
     },
     "execution_count": 52,
     "metadata": {},
     "output_type": "execute_result"
    }
   ],
   "source": [
    "encoded_text"
   ]
  },
  {
   "cell_type": "code",
   "execution_count": 39,
   "id": "b23fe823",
   "metadata": {},
   "outputs": [
    {
     "data": {
      "text/plain": [
       "<cryptography.fernet.Fernet at 0x1f09d3e7700>"
      ]
     },
     "execution_count": 39,
     "metadata": {},
     "output_type": "execute_result"
    }
   ],
   "source": [
    "cipher_suite"
   ]
  },
  {
   "cell_type": "code",
   "execution_count": null,
   "id": "d07513ec",
   "metadata": {},
   "outputs": [],
   "source": []
  },
  {
   "cell_type": "code",
   "execution_count": 26,
   "id": "7950b19c",
   "metadata": {},
   "outputs": [
    {
     "data": {
      "text/plain": [
       "b'penis'"
      ]
     },
     "execution_count": 26,
     "metadata": {},
     "output_type": "execute_result"
    }
   ],
   "source": [
    "decoded_text"
   ]
  },
  {
   "cell_type": "code",
   "execution_count": 27,
   "id": "e301772f",
   "metadata": {},
   "outputs": [
    {
     "data": {
      "text/plain": [
       "b'gAAAAABjxIavp2P3dzH1SCQlxX3VEXsGIUb2tu9gj_3MEff4k6S56VIep25ha9dR_AoRhSEXCuYmtugbmVgDs2vh8sazA28syQ=='"
      ]
     },
     "execution_count": 27,
     "metadata": {},
     "output_type": "execute_result"
    }
   ],
   "source": [
    "encoded_text"
   ]
  },
  {
   "cell_type": "code",
   "execution_count": 32,
   "id": "6ef60ac6",
   "metadata": {},
   "outputs": [
    {
     "data": {
      "text/plain": [
       "'penis'"
      ]
     },
     "execution_count": 32,
     "metadata": {},
     "output_type": "execute_result"
    }
   ],
   "source": [
    "str(cipher_suite.decrypt(encoded_text))[2:-1]"
   ]
  },
  {
   "cell_type": "code",
   "execution_count": 35,
   "id": "0c41830c",
   "metadata": {},
   "outputs": [
    {
     "data": {
      "text/plain": [
       "b'0ZhUBKfz9aZYPiR4jlMie2CsnywKCiHFzxkUn4t4fxo='"
      ]
     },
     "execution_count": 35,
     "metadata": {},
     "output_type": "execute_result"
    }
   ],
   "source": [
    "key"
   ]
  },
  {
   "cell_type": "code",
   "execution_count": null,
   "id": "2b04234c",
   "metadata": {},
   "outputs": [],
   "source": []
  }
 ],
 "metadata": {
  "kernelspec": {
   "display_name": "Python 3 (ipykernel)",
   "language": "python",
   "name": "python3"
  },
  "language_info": {
   "codemirror_mode": {
    "name": "ipython",
    "version": 3
   },
   "file_extension": ".py",
   "mimetype": "text/x-python",
   "name": "python",
   "nbconvert_exporter": "python",
   "pygments_lexer": "ipython3",
   "version": "3.9.13"
  }
 },
 "nbformat": 4,
 "nbformat_minor": 5
}
