{
 "cells": [
  {
   "cell_type": "code",
   "execution_count": 1,
   "id": "fcf39353",
   "metadata": {},
   "outputs": [],
   "source": [
    "import os \n",
    "import sys\n",
    "import subprocess"
   ]
  },
  {
   "cell_type": "code",
   "execution_count": null,
   "id": "e5fc6b60",
   "metadata": {},
   "outputs": [],
   "source": [
    "def make_file"
   ]
  },
  {
   "cell_type": "code",
   "execution_count": 3,
   "id": "a3160b70",
   "metadata": {},
   "outputs": [
    {
     "data": {
      "text/plain": [
       "'C:\\\\Users\\\\sbuca\\\\Desktop\\\\pierre_files'"
      ]
     },
     "execution_count": 3,
     "metadata": {},
     "output_type": "execute_result"
    }
   ],
   "source": [
    "os.path.join(os.path.join(os.path.expanduser('~')), 'Desktop') + \"\\\\pierre_files\""
   ]
  },
  {
   "cell_type": "code",
   "execution_count": null,
   "id": "0dc9edc8",
   "metadata": {},
   "outputs": [],
   "source": [
    "#Can you write \"ianmfianwifne\" to essay document -> finds word doc and writes whatever user says\n",
    "\n",
    "#Can you make a note -> Pierre says whats your note \n",
    "#-> \"dsmgiomngioe\" -> Pierre opens note file (.txt) and writes whatever user said\n",
    "\n",
    "#Can you create a new excel file\n",
    "#Can you create a new word document"
   ]
  }
 ],
 "metadata": {
  "kernelspec": {
   "display_name": "Python 3",
   "language": "python",
   "name": "python3"
  },
  "language_info": {
   "codemirror_mode": {
    "name": "ipython",
    "version": 3
   },
   "file_extension": ".py",
   "mimetype": "text/x-python",
   "name": "python",
   "nbconvert_exporter": "python",
   "pygments_lexer": "ipython3",
   "version": "3.8.8"
  }
 },
 "nbformat": 4,
 "nbformat_minor": 5
}
