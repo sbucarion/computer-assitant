{
 "cells": [
  {
   "cell_type": "code",
   "execution_count": 39,
   "id": "f79ce1b3",
   "metadata": {},
   "outputs": [],
   "source": [
    "from input_listener import input_detector\n",
    "from process_image import text_coordinates\n",
    "\n",
    "import os\n",
    "import pyautogui\n",
    "from pytesseract import pytesseract\n",
    "from numba import njit\n",
    "from thefuzz import fuzz\n",
    "from datetime import datetime\n",
    "import wmi\n",
    "\n",
    "\n",
    "def create_tesseract_path():\n",
    "    current_dir = os.getcwd()\n",
    "    path_to_tesseract = current_dir + r\"\\Tesseract-OCR\\tesseract.exe\" #will fail in jupyter folder\n",
    "\n",
    "    print(path_to_tesseract)\n",
    "    print(os.path.exists(path_to_tesseract))\n",
    "    pytesseract.tesseract_cmd = path_to_tesseract\n",
    "\n",
    "\n",
    "def get_screenshot_dir():\n",
    "    current_dir = os.getcwd()\n",
    "    screenshot_dir = current_dir + \"\\\\screenshot_folder\"\n",
    "    \n",
    "    if not screenshot_dir:\n",
    "        os.mkdir(screenshot_dir)\n",
    "        \n",
    "    else:\n",
    "        return screenshot_dir\n",
    "    \n",
    "\n",
    "def click_on_command(command):\n",
    "    command = command.lower()\n",
    "    \n",
    "    screenshot_dir = get_screenshot_dir()\n",
    "    \n",
    "    screenshot_file = screenshot_dir + \"\\\\auto_screenshot.png\"\n",
    "    print(screenshot_file)\n",
    "    image = pyautogui.screenshot(screenshot_file)\n",
    "    results = text_coordinates(screenshot_file, command)\n",
    "    \n",
    "    if results is not None:\n",
    "        coors = results[1]\n",
    "        pyautogui.click(coors)\n",
    "\n",
    "    else:\n",
    "        return \"not found\"\n",
    "    \n",
    "    \n",
    "def command_handler(command):\n",
    "    if 'pause' in command:\n",
    "        pyautogui.click(900,500)\n",
    "        #pyautogui.press('space')\n",
    "        \n",
    "    if 'enter' in command:\n",
    "        pyautogui.press('enter')    \n",
    "        \n",
    "    if 'space' in command:\n",
    "        pyautogui.press('space')\n",
    "        \n",
    "#     else:\n",
    "#         click_on_command(command)"
   ]
  },
  {
   "cell_type": "code",
   "execution_count": 40,
   "id": "1c71232b",
   "metadata": {},
   "outputs": [],
   "source": [
    "command_handler(\"pause\")"
   ]
  },
  {
   "cell_type": "code",
   "execution_count": 7,
   "id": "81e55ca2",
   "metadata": {},
   "outputs": [],
   "source": [
    "obj = wmi.WMI().Win32_PnPEntity(ConfigManagerErrorCode=0)"
   ]
  },
  {
   "cell_type": "code",
   "execution_count": 9,
   "id": "902ac3fa",
   "metadata": {},
   "outputs": [],
   "source": [
    "displays = [x for x in obj if 'DISPLAY' in str(x)]"
   ]
  },
  {
   "cell_type": "code",
   "execution_count": 11,
   "id": "0f580e2d",
   "metadata": {},
   "outputs": [
    {
     "name": "stdout",
     "output_type": "stream",
     "text": [
      "\n",
      "instance of Win32_PnPEntity\n",
      "{\n",
      "\tCaption = \"Microsoft Basic Display Driver\";\n",
      "\tClassGuid = \"{4d36e97d-e325-11ce-bfc1-08002be10318}\";\n",
      "\tConfigManagerErrorCode = 0;\n",
      "\tConfigManagerUserConfig = FALSE;\n",
      "\tCreationClassName = \"Win32_PnPEntity\";\n",
      "\tDescription = \"Microsoft Basic Display Driver\";\n",
      "\tDeviceID = \"ROOT\\\\BASICDISPLAY\\\\0000\";\n",
      "\tHardwareID = {\"ROOT\\\\BasicDisplay\"};\n",
      "\tManufacturer = \"(Standard display types)\";\n",
      "\tName = \"Microsoft Basic Display Driver\";\n",
      "\tPNPClass = \"System\";\n",
      "\tPNPDeviceID = \"ROOT\\\\BASICDISPLAY\\\\0000\";\n",
      "\tPresent = TRUE;\n",
      "\tService = \"BasicDisplay\";\n",
      "\tStatus = \"OK\";\n",
      "\tSystemCreationClassName = \"Win32_ComputerSystem\";\n",
      "\tSystemName = \"SEBASTIAN-PC\";\n",
      "};\n",
      "\n",
      "\n",
      "instance of Win32_PnPEntity\n",
      "{\n",
      "\tCaption = \"Generic Monitor (MZ240ED)\";\n",
      "\tClassGuid = \"{4d36e96e-e325-11ce-bfc1-08002be10318}\";\n",
      "\tCompatibleID = {\"*PNP09FF\"};\n",
      "\tConfigManagerErrorCode = 0;\n",
      "\tConfigManagerUserConfig = FALSE;\n",
      "\tCreationClassName = \"Win32_PnPEntity\";\n",
      "\tDescription = \"Generic PnP Monitor\";\n",
      "\tDeviceID = \"DISPLAY\\\\ZMT00F0\\\\5&30873F77&0&UID4352\";\n",
      "\tHardwareID = {\"MONITOR\\\\ZMT00F0\"};\n",
      "\tManufacturer = \"(Standard monitor types)\";\n",
      "\tName = \"Generic Monitor (MZ240ED)\";\n",
      "\tPNPClass = \"Monitor\";\n",
      "\tPNPDeviceID = \"DISPLAY\\\\ZMT00F0\\\\5&30873F77&0&UID4352\";\n",
      "\tPresent = TRUE;\n",
      "\tService = \"monitor\";\n",
      "\tStatus = \"OK\";\n",
      "\tSystemCreationClassName = \"Win32_ComputerSystem\";\n",
      "\tSystemName = \"SEBASTIAN-PC\";\n",
      "};\n",
      "\n",
      "\n",
      "instance of Win32_PnPEntity\n",
      "{\n",
      "\tCaption = \"AOC 2752H\";\n",
      "\tClassGuid = \"{4d36e96e-e325-11ce-bfc1-08002be10318}\";\n",
      "\tCompatibleID = {\"*PNP09FF\"};\n",
      "\tConfigManagerErrorCode = 0;\n",
      "\tConfigManagerUserConfig = FALSE;\n",
      "\tCreationClassName = \"Win32_PnPEntity\";\n",
      "\tDescription = \"AOC 2752H\";\n",
      "\tDeviceID = \"DISPLAY\\\\AOC2752\\\\5&30873F77&0&UID4353\";\n",
      "\tHardwareID = {\"MONITOR\\\\AOC2752\"};\n",
      "\tManufacturer = \"AOC International (Europe) GmbH\";\n",
      "\tName = \"AOC 2752H\";\n",
      "\tPNPClass = \"Monitor\";\n",
      "\tPNPDeviceID = \"DISPLAY\\\\AOC2752\\\\5&30873F77&0&UID4353\";\n",
      "\tPresent = TRUE;\n",
      "\tService = \"monitor\";\n",
      "\tStatus = \"OK\";\n",
      "\tSystemCreationClassName = \"Win32_ComputerSystem\";\n",
      "\tSystemName = \"SEBASTIAN-PC\";\n",
      "};\n",
      "\n"
     ]
    }
   ],
   "source": [
    "for item in displays:\n",
    "    print(item)"
   ]
  },
  {
   "cell_type": "code",
   "execution_count": 32,
   "id": "233194f5",
   "metadata": {},
   "outputs": [
    {
     "name": "stdout",
     "output_type": "stream",
     "text": [
      "Monitor(x=0, y=0, width=1920, height=1080, width_mm=579, height_mm=336, name='\\\\\\\\.\\\\DISPLAY1', is_primary=True)\n",
      "Monitor(x=1920, y=0, width=1920, height=1080, width_mm=520, height_mm=320, name='\\\\\\\\.\\\\DISPLAY2', is_primary=False)\n"
     ]
    }
   ],
   "source": [
    "from screeninfo import get_monitors\n",
    "for m in get_monitors():\n",
    "    print((m))"
   ]
  },
  {
   "cell_type": "code",
   "execution_count": 31,
   "id": "4e2cbf09",
   "metadata": {},
   "outputs": [
    {
     "data": {
      "text/plain": [
       "Monitor(x=1920, y=0, width=1920, height=1080, width_mm=520, height_mm=320, name='\\\\\\\\.\\\\DISPLAY2', is_primary=False)"
      ]
     },
     "execution_count": 31,
     "metadata": {},
     "output_type": "execute_result"
    }
   ],
   "source": [
    "m"
   ]
  },
  {
   "cell_type": "code",
   "execution_count": 4,
   "id": "18efdae4",
   "metadata": {},
   "outputs": [
    {
     "name": "stdout",
     "output_type": "stream",
     "text": [
      "2022-12-31 20:22:34.026242\n",
      "C:\\Users\\sbuca\\Documents\\autokm\\screenshot_folder\\auto_screenshot.png\n",
      "1080 1920\n",
      "image mainly black inverting\n",
      "1080 1920\n",
      "white\n",
      "genre ['genre']\n",
      "100 59\n",
      "genre ['genre']\n",
      "100 59\n",
      "[['genre', (45.0, 423.0), 100]] [['genre', (45.0, 423.0), 100]]\n",
      "[['genre', (45.0, 423.0), 100], ['genre', (45.0, 423.0), 100]]\n",
      "['genre', (45.0, 423.0), 100]\n",
      "['genre', (45.0, 423.0), 100]\n",
      "100\n",
      "2022-12-31 20:22:35.478845\n"
     ]
    }
   ],
   "source": [
    "#create_tesseract_path()\n",
    "print(datetime.now())\n",
    "click_on_command(\"genre\")\n",
    "print(datetime.now())"
   ]
  },
  {
   "cell_type": "code",
   "execution_count": 28,
   "id": "b0672e15",
   "metadata": {},
   "outputs": [
    {
     "data": {
      "text/plain": [
       "Point(x=1922, y=357)"
      ]
     },
     "execution_count": 28,
     "metadata": {},
     "output_type": "execute_result"
    }
   ],
   "source": [
    "pyautogui.position()"
   ]
  },
  {
   "cell_type": "code",
   "execution_count": 24,
   "id": "4b39c5f8",
   "metadata": {},
   "outputs": [
    {
     "ename": "DisplayNameError",
     "evalue": "Bad display name \"DISPLAY\\AOC2752\\5&30873F77&0&UID4353\"",
     "output_type": "error",
     "traceback": [
      "\u001b[1;31m---------------------------------------------------------------------------\u001b[0m",
      "\u001b[1;31mDisplayNameError\u001b[0m                          Traceback (most recent call last)",
      "\u001b[1;32m<ipython-input-24-f2df6ca089ce>\u001b[0m in \u001b[0;36m<module>\u001b[1;34m\u001b[0m\n\u001b[1;32m----> 1\u001b[1;33m \u001b[0mdisplay\u001b[0m\u001b[1;33m.\u001b[0m\u001b[0mDisplay\u001b[0m\u001b[1;33m(\u001b[0m\u001b[0mdisplay\u001b[0m\u001b[1;33m=\u001b[0m\u001b[1;34m\"DISPLAY\\\\AOC2752\\\\5&30873F77&0&UID4353\"\u001b[0m\u001b[1;33m)\u001b[0m\u001b[1;33m\u001b[0m\u001b[1;33m\u001b[0m\u001b[0m\n\u001b[0m",
      "\u001b[1;32m~\\anaconda33\\lib\\site-packages\\Xlib\\display.py\u001b[0m in \u001b[0;36m__init__\u001b[1;34m(self, display)\u001b[0m\n\u001b[0;32m     87\u001b[0m \u001b[1;32mclass\u001b[0m \u001b[0mDisplay\u001b[0m\u001b[1;33m(\u001b[0m\u001b[0mobject\u001b[0m\u001b[1;33m)\u001b[0m\u001b[1;33m:\u001b[0m\u001b[1;33m\u001b[0m\u001b[1;33m\u001b[0m\u001b[0m\n\u001b[0;32m     88\u001b[0m     \u001b[1;32mdef\u001b[0m \u001b[0m__init__\u001b[0m\u001b[1;33m(\u001b[0m\u001b[0mself\u001b[0m\u001b[1;33m,\u001b[0m \u001b[0mdisplay\u001b[0m \u001b[1;33m=\u001b[0m \u001b[1;32mNone\u001b[0m\u001b[1;33m)\u001b[0m\u001b[1;33m:\u001b[0m\u001b[1;33m\u001b[0m\u001b[1;33m\u001b[0m\u001b[0m\n\u001b[1;32m---> 89\u001b[1;33m         \u001b[0mself\u001b[0m\u001b[1;33m.\u001b[0m\u001b[0mdisplay\u001b[0m \u001b[1;33m=\u001b[0m \u001b[0m_BaseDisplay\u001b[0m\u001b[1;33m(\u001b[0m\u001b[0mdisplay\u001b[0m\u001b[1;33m)\u001b[0m\u001b[1;33m\u001b[0m\u001b[1;33m\u001b[0m\u001b[0m\n\u001b[0m\u001b[0;32m     90\u001b[0m \u001b[1;33m\u001b[0m\u001b[0m\n\u001b[0;32m     91\u001b[0m         \u001b[1;31m# Create the keymap cache\u001b[0m\u001b[1;33m\u001b[0m\u001b[1;33m\u001b[0m\u001b[1;33m\u001b[0m\u001b[0m\n",
      "\u001b[1;32m~\\anaconda33\\lib\\site-packages\\Xlib\\display.py\u001b[0m in \u001b[0;36m__init__\u001b[1;34m(self, *args, **keys)\u001b[0m\n\u001b[0;32m     69\u001b[0m     \u001b[1;32mdef\u001b[0m \u001b[0m__init__\u001b[0m\u001b[1;33m(\u001b[0m\u001b[0mself\u001b[0m\u001b[1;33m,\u001b[0m \u001b[1;33m*\u001b[0m\u001b[0margs\u001b[0m\u001b[1;33m,\u001b[0m \u001b[1;33m**\u001b[0m\u001b[0mkeys\u001b[0m\u001b[1;33m)\u001b[0m\u001b[1;33m:\u001b[0m\u001b[1;33m\u001b[0m\u001b[1;33m\u001b[0m\u001b[0m\n\u001b[0;32m     70\u001b[0m         \u001b[0mself\u001b[0m\u001b[1;33m.\u001b[0m\u001b[0mresource_classes\u001b[0m \u001b[1;33m=\u001b[0m \u001b[0m_resource_baseclasses\u001b[0m\u001b[1;33m.\u001b[0m\u001b[0mcopy\u001b[0m\u001b[1;33m(\u001b[0m\u001b[1;33m)\u001b[0m\u001b[1;33m\u001b[0m\u001b[1;33m\u001b[0m\u001b[0m\n\u001b[1;32m---> 71\u001b[1;33m         \u001b[0mprotocol_display\u001b[0m\u001b[1;33m.\u001b[0m\u001b[0mDisplay\u001b[0m\u001b[1;33m.\u001b[0m\u001b[0m__init__\u001b[0m\u001b[1;33m(\u001b[0m\u001b[0mself\u001b[0m\u001b[1;33m,\u001b[0m \u001b[1;33m*\u001b[0m\u001b[0margs\u001b[0m\u001b[1;33m,\u001b[0m \u001b[1;33m**\u001b[0m\u001b[0mkeys\u001b[0m\u001b[1;33m)\u001b[0m\u001b[1;33m\u001b[0m\u001b[1;33m\u001b[0m\u001b[0m\n\u001b[0m\u001b[0;32m     72\u001b[0m         \u001b[0mself\u001b[0m\u001b[1;33m.\u001b[0m\u001b[0m_atom_cache\u001b[0m \u001b[1;33m=\u001b[0m \u001b[1;33m{\u001b[0m\u001b[1;33m}\u001b[0m\u001b[1;33m\u001b[0m\u001b[1;33m\u001b[0m\u001b[0m\n\u001b[0;32m     73\u001b[0m \u001b[1;33m\u001b[0m\u001b[0m\n",
      "\u001b[1;32m~\\anaconda33\\lib\\site-packages\\Xlib\\protocol\\display.py\u001b[0m in \u001b[0;36m__init__\u001b[1;34m(self, display)\u001b[0m\n\u001b[0;32m     82\u001b[0m \u001b[1;33m\u001b[0m\u001b[0m\n\u001b[0;32m     83\u001b[0m     \u001b[1;32mdef\u001b[0m \u001b[0m__init__\u001b[0m\u001b[1;33m(\u001b[0m\u001b[0mself\u001b[0m\u001b[1;33m,\u001b[0m \u001b[0mdisplay\u001b[0m \u001b[1;33m=\u001b[0m \u001b[1;32mNone\u001b[0m\u001b[1;33m)\u001b[0m\u001b[1;33m:\u001b[0m\u001b[1;33m\u001b[0m\u001b[1;33m\u001b[0m\u001b[0m\n\u001b[1;32m---> 84\u001b[1;33m         \u001b[0mname\u001b[0m\u001b[1;33m,\u001b[0m \u001b[0mprotocol\u001b[0m\u001b[1;33m,\u001b[0m \u001b[0mhost\u001b[0m\u001b[1;33m,\u001b[0m \u001b[0mdisplayno\u001b[0m\u001b[1;33m,\u001b[0m \u001b[0mscreenno\u001b[0m \u001b[1;33m=\u001b[0m \u001b[0mconnect\u001b[0m\u001b[1;33m.\u001b[0m\u001b[0mget_display\u001b[0m\u001b[1;33m(\u001b[0m\u001b[0mdisplay\u001b[0m\u001b[1;33m)\u001b[0m\u001b[1;33m\u001b[0m\u001b[1;33m\u001b[0m\u001b[0m\n\u001b[0m\u001b[0;32m     85\u001b[0m \u001b[1;33m\u001b[0m\u001b[0m\n\u001b[0;32m     86\u001b[0m         \u001b[0mself\u001b[0m\u001b[1;33m.\u001b[0m\u001b[0mdisplay_name\u001b[0m \u001b[1;33m=\u001b[0m \u001b[0mname\u001b[0m\u001b[1;33m\u001b[0m\u001b[1;33m\u001b[0m\u001b[0m\n",
      "\u001b[1;32m~\\anaconda33\\lib\\site-packages\\Xlib\\support\\connect.py\u001b[0m in \u001b[0;36mget_display\u001b[1;34m(display)\u001b[0m\n\u001b[0;32m     71\u001b[0m     \u001b[0mmodname\u001b[0m \u001b[1;33m=\u001b[0m \u001b[0m_display_mods\u001b[0m\u001b[1;33m.\u001b[0m\u001b[0mget\u001b[0m\u001b[1;33m(\u001b[0m\u001b[0mplatform\u001b[0m\u001b[1;33m,\u001b[0m \u001b[0m_default_display_mod\u001b[0m\u001b[1;33m)\u001b[0m\u001b[1;33m\u001b[0m\u001b[1;33m\u001b[0m\u001b[0m\n\u001b[0;32m     72\u001b[0m     \u001b[0mmod\u001b[0m \u001b[1;33m=\u001b[0m \u001b[0m_relative_import\u001b[0m\u001b[1;33m(\u001b[0m\u001b[0mmodname\u001b[0m\u001b[1;33m)\u001b[0m\u001b[1;33m\u001b[0m\u001b[1;33m\u001b[0m\u001b[0m\n\u001b[1;32m---> 73\u001b[1;33m     \u001b[1;32mreturn\u001b[0m \u001b[0mmod\u001b[0m\u001b[1;33m.\u001b[0m\u001b[0mget_display\u001b[0m\u001b[1;33m(\u001b[0m\u001b[0mdisplay\u001b[0m\u001b[1;33m)\u001b[0m\u001b[1;33m\u001b[0m\u001b[1;33m\u001b[0m\u001b[0m\n\u001b[0m\u001b[0;32m     74\u001b[0m \u001b[1;33m\u001b[0m\u001b[0m\n\u001b[0;32m     75\u001b[0m \u001b[1;33m\u001b[0m\u001b[0m\n",
      "\u001b[1;32m~\\anaconda33\\lib\\site-packages\\Xlib\\support\\unix_connect.py\u001b[0m in \u001b[0;36mget_display\u001b[1;34m(display)\u001b[0m\n\u001b[0;32m     57\u001b[0m             \u001b[1;32mbreak\u001b[0m\u001b[1;33m\u001b[0m\u001b[1;33m\u001b[0m\u001b[0m\n\u001b[0;32m     58\u001b[0m     \u001b[1;32melse\u001b[0m\u001b[1;33m:\u001b[0m\u001b[1;33m\u001b[0m\u001b[1;33m\u001b[0m\u001b[0m\n\u001b[1;32m---> 59\u001b[1;33m         \u001b[1;32mraise\u001b[0m \u001b[0merror\u001b[0m\u001b[1;33m.\u001b[0m\u001b[0mDisplayNameError\u001b[0m\u001b[1;33m(\u001b[0m\u001b[0mdisplay\u001b[0m\u001b[1;33m)\u001b[0m\u001b[1;33m\u001b[0m\u001b[1;33m\u001b[0m\u001b[0m\n\u001b[0m\u001b[0;32m     60\u001b[0m \u001b[1;33m\u001b[0m\u001b[0m\n\u001b[0;32m     61\u001b[0m     \u001b[1;32mif\u001b[0m \u001b[0mprotocol\u001b[0m \u001b[1;33m==\u001b[0m \u001b[1;34m'tcp'\u001b[0m \u001b[1;32mand\u001b[0m \u001b[1;32mnot\u001b[0m \u001b[0mhost\u001b[0m\u001b[1;33m:\u001b[0m\u001b[1;33m\u001b[0m\u001b[1;33m\u001b[0m\u001b[0m\n",
      "\u001b[1;31mDisplayNameError\u001b[0m: Bad display name \"DISPLAY\\AOC2752\\5&30873F77&0&UID4353\""
     ]
    }
   ],
   "source": [
    "display.Display(display=\"DISPLAY\\\\AOC2752\\\\5&30873F77&0&UID4353\")"
   ]
  },
  {
   "cell_type": "code",
   "execution_count": 14,
   "id": "cfe34a99",
   "metadata": {},
   "outputs": [
    {
     "ename": "DisplayNameError",
     "evalue": "Bad display name \"\"",
     "output_type": "error",
     "traceback": [
      "\u001b[1;31m---------------------------------------------------------------------------\u001b[0m",
      "\u001b[1;31mDisplayNameError\u001b[0m                          Traceback (most recent call last)",
      "\u001b[1;32m<ipython-input-14-c8c4bdb3189f>\u001b[0m in \u001b[0;36m<module>\u001b[1;34m\u001b[0m\n\u001b[0;32m      1\u001b[0m \u001b[1;32mfrom\u001b[0m \u001b[0mXlib\u001b[0m \u001b[1;32mimport\u001b[0m \u001b[0mdisplay\u001b[0m\u001b[1;33m\u001b[0m\u001b[1;33m\u001b[0m\u001b[0m\n\u001b[1;32m----> 2\u001b[1;33m \u001b[0mdata\u001b[0m \u001b[1;33m=\u001b[0m \u001b[0mdisplay\u001b[0m\u001b[1;33m.\u001b[0m\u001b[0mDisplay\u001b[0m\u001b[1;33m(\u001b[0m\u001b[1;33m)\u001b[0m\u001b[1;33m.\u001b[0m\u001b[0mscreen\u001b[0m\u001b[1;33m(\u001b[0m\u001b[1;33m)\u001b[0m\u001b[1;33m.\u001b[0m\u001b[0mroot\u001b[0m\u001b[1;33m.\u001b[0m\u001b[0mquery_pointer\u001b[0m\u001b[1;33m(\u001b[0m\u001b[1;33m)\u001b[0m\u001b[1;33m.\u001b[0m\u001b[0m_data\u001b[0m\u001b[1;33m\u001b[0m\u001b[1;33m\u001b[0m\u001b[0m\n\u001b[0m\u001b[0;32m      3\u001b[0m \u001b[0mlocationtuple\u001b[0m \u001b[1;33m=\u001b[0m \u001b[1;33m(\u001b[0m\u001b[0mdata\u001b[0m\u001b[1;33m[\u001b[0m\u001b[1;34m\"root_x\"\u001b[0m\u001b[1;33m]\u001b[0m\u001b[1;33m,\u001b[0m \u001b[0mdata\u001b[0m\u001b[1;33m[\u001b[0m\u001b[1;34m\"root_y\"\u001b[0m\u001b[1;33m]\u001b[0m\u001b[1;33m)\u001b[0m\u001b[1;33m\u001b[0m\u001b[1;33m\u001b[0m\u001b[0m\n",
      "\u001b[1;32m~\\anaconda33\\lib\\site-packages\\Xlib\\display.py\u001b[0m in \u001b[0;36m__init__\u001b[1;34m(self, display)\u001b[0m\n\u001b[0;32m     87\u001b[0m \u001b[1;32mclass\u001b[0m \u001b[0mDisplay\u001b[0m\u001b[1;33m(\u001b[0m\u001b[0mobject\u001b[0m\u001b[1;33m)\u001b[0m\u001b[1;33m:\u001b[0m\u001b[1;33m\u001b[0m\u001b[1;33m\u001b[0m\u001b[0m\n\u001b[0;32m     88\u001b[0m     \u001b[1;32mdef\u001b[0m \u001b[0m__init__\u001b[0m\u001b[1;33m(\u001b[0m\u001b[0mself\u001b[0m\u001b[1;33m,\u001b[0m \u001b[0mdisplay\u001b[0m \u001b[1;33m=\u001b[0m \u001b[1;32mNone\u001b[0m\u001b[1;33m)\u001b[0m\u001b[1;33m:\u001b[0m\u001b[1;33m\u001b[0m\u001b[1;33m\u001b[0m\u001b[0m\n\u001b[1;32m---> 89\u001b[1;33m         \u001b[0mself\u001b[0m\u001b[1;33m.\u001b[0m\u001b[0mdisplay\u001b[0m \u001b[1;33m=\u001b[0m \u001b[0m_BaseDisplay\u001b[0m\u001b[1;33m(\u001b[0m\u001b[0mdisplay\u001b[0m\u001b[1;33m)\u001b[0m\u001b[1;33m\u001b[0m\u001b[1;33m\u001b[0m\u001b[0m\n\u001b[0m\u001b[0;32m     90\u001b[0m \u001b[1;33m\u001b[0m\u001b[0m\n\u001b[0;32m     91\u001b[0m         \u001b[1;31m# Create the keymap cache\u001b[0m\u001b[1;33m\u001b[0m\u001b[1;33m\u001b[0m\u001b[1;33m\u001b[0m\u001b[0m\n",
      "\u001b[1;32m~\\anaconda33\\lib\\site-packages\\Xlib\\display.py\u001b[0m in \u001b[0;36m__init__\u001b[1;34m(self, *args, **keys)\u001b[0m\n\u001b[0;32m     69\u001b[0m     \u001b[1;32mdef\u001b[0m \u001b[0m__init__\u001b[0m\u001b[1;33m(\u001b[0m\u001b[0mself\u001b[0m\u001b[1;33m,\u001b[0m \u001b[1;33m*\u001b[0m\u001b[0margs\u001b[0m\u001b[1;33m,\u001b[0m \u001b[1;33m**\u001b[0m\u001b[0mkeys\u001b[0m\u001b[1;33m)\u001b[0m\u001b[1;33m:\u001b[0m\u001b[1;33m\u001b[0m\u001b[1;33m\u001b[0m\u001b[0m\n\u001b[0;32m     70\u001b[0m         \u001b[0mself\u001b[0m\u001b[1;33m.\u001b[0m\u001b[0mresource_classes\u001b[0m \u001b[1;33m=\u001b[0m \u001b[0m_resource_baseclasses\u001b[0m\u001b[1;33m.\u001b[0m\u001b[0mcopy\u001b[0m\u001b[1;33m(\u001b[0m\u001b[1;33m)\u001b[0m\u001b[1;33m\u001b[0m\u001b[1;33m\u001b[0m\u001b[0m\n\u001b[1;32m---> 71\u001b[1;33m         \u001b[0mprotocol_display\u001b[0m\u001b[1;33m.\u001b[0m\u001b[0mDisplay\u001b[0m\u001b[1;33m.\u001b[0m\u001b[0m__init__\u001b[0m\u001b[1;33m(\u001b[0m\u001b[0mself\u001b[0m\u001b[1;33m,\u001b[0m \u001b[1;33m*\u001b[0m\u001b[0margs\u001b[0m\u001b[1;33m,\u001b[0m \u001b[1;33m**\u001b[0m\u001b[0mkeys\u001b[0m\u001b[1;33m)\u001b[0m\u001b[1;33m\u001b[0m\u001b[1;33m\u001b[0m\u001b[0m\n\u001b[0m\u001b[0;32m     72\u001b[0m         \u001b[0mself\u001b[0m\u001b[1;33m.\u001b[0m\u001b[0m_atom_cache\u001b[0m \u001b[1;33m=\u001b[0m \u001b[1;33m{\u001b[0m\u001b[1;33m}\u001b[0m\u001b[1;33m\u001b[0m\u001b[1;33m\u001b[0m\u001b[0m\n\u001b[0;32m     73\u001b[0m \u001b[1;33m\u001b[0m\u001b[0m\n",
      "\u001b[1;32m~\\anaconda33\\lib\\site-packages\\Xlib\\protocol\\display.py\u001b[0m in \u001b[0;36m__init__\u001b[1;34m(self, display)\u001b[0m\n\u001b[0;32m     82\u001b[0m \u001b[1;33m\u001b[0m\u001b[0m\n\u001b[0;32m     83\u001b[0m     \u001b[1;32mdef\u001b[0m \u001b[0m__init__\u001b[0m\u001b[1;33m(\u001b[0m\u001b[0mself\u001b[0m\u001b[1;33m,\u001b[0m \u001b[0mdisplay\u001b[0m \u001b[1;33m=\u001b[0m \u001b[1;32mNone\u001b[0m\u001b[1;33m)\u001b[0m\u001b[1;33m:\u001b[0m\u001b[1;33m\u001b[0m\u001b[1;33m\u001b[0m\u001b[0m\n\u001b[1;32m---> 84\u001b[1;33m         \u001b[0mname\u001b[0m\u001b[1;33m,\u001b[0m \u001b[0mprotocol\u001b[0m\u001b[1;33m,\u001b[0m \u001b[0mhost\u001b[0m\u001b[1;33m,\u001b[0m \u001b[0mdisplayno\u001b[0m\u001b[1;33m,\u001b[0m \u001b[0mscreenno\u001b[0m \u001b[1;33m=\u001b[0m \u001b[0mconnect\u001b[0m\u001b[1;33m.\u001b[0m\u001b[0mget_display\u001b[0m\u001b[1;33m(\u001b[0m\u001b[0mdisplay\u001b[0m\u001b[1;33m)\u001b[0m\u001b[1;33m\u001b[0m\u001b[1;33m\u001b[0m\u001b[0m\n\u001b[0m\u001b[0;32m     85\u001b[0m \u001b[1;33m\u001b[0m\u001b[0m\n\u001b[0;32m     86\u001b[0m         \u001b[0mself\u001b[0m\u001b[1;33m.\u001b[0m\u001b[0mdisplay_name\u001b[0m \u001b[1;33m=\u001b[0m \u001b[0mname\u001b[0m\u001b[1;33m\u001b[0m\u001b[1;33m\u001b[0m\u001b[0m\n",
      "\u001b[1;32m~\\anaconda33\\lib\\site-packages\\Xlib\\support\\connect.py\u001b[0m in \u001b[0;36mget_display\u001b[1;34m(display)\u001b[0m\n\u001b[0;32m     71\u001b[0m     \u001b[0mmodname\u001b[0m \u001b[1;33m=\u001b[0m \u001b[0m_display_mods\u001b[0m\u001b[1;33m.\u001b[0m\u001b[0mget\u001b[0m\u001b[1;33m(\u001b[0m\u001b[0mplatform\u001b[0m\u001b[1;33m,\u001b[0m \u001b[0m_default_display_mod\u001b[0m\u001b[1;33m)\u001b[0m\u001b[1;33m\u001b[0m\u001b[1;33m\u001b[0m\u001b[0m\n\u001b[0;32m     72\u001b[0m     \u001b[0mmod\u001b[0m \u001b[1;33m=\u001b[0m \u001b[0m_relative_import\u001b[0m\u001b[1;33m(\u001b[0m\u001b[0mmodname\u001b[0m\u001b[1;33m)\u001b[0m\u001b[1;33m\u001b[0m\u001b[1;33m\u001b[0m\u001b[0m\n\u001b[1;32m---> 73\u001b[1;33m     \u001b[1;32mreturn\u001b[0m \u001b[0mmod\u001b[0m\u001b[1;33m.\u001b[0m\u001b[0mget_display\u001b[0m\u001b[1;33m(\u001b[0m\u001b[0mdisplay\u001b[0m\u001b[1;33m)\u001b[0m\u001b[1;33m\u001b[0m\u001b[1;33m\u001b[0m\u001b[0m\n\u001b[0m\u001b[0;32m     74\u001b[0m \u001b[1;33m\u001b[0m\u001b[0m\n\u001b[0;32m     75\u001b[0m \u001b[1;33m\u001b[0m\u001b[0m\n",
      "\u001b[1;32m~\\anaconda33\\lib\\site-packages\\Xlib\\support\\unix_connect.py\u001b[0m in \u001b[0;36mget_display\u001b[1;34m(display)\u001b[0m\n\u001b[0;32m     57\u001b[0m             \u001b[1;32mbreak\u001b[0m\u001b[1;33m\u001b[0m\u001b[1;33m\u001b[0m\u001b[0m\n\u001b[0;32m     58\u001b[0m     \u001b[1;32melse\u001b[0m\u001b[1;33m:\u001b[0m\u001b[1;33m\u001b[0m\u001b[1;33m\u001b[0m\u001b[0m\n\u001b[1;32m---> 59\u001b[1;33m         \u001b[1;32mraise\u001b[0m \u001b[0merror\u001b[0m\u001b[1;33m.\u001b[0m\u001b[0mDisplayNameError\u001b[0m\u001b[1;33m(\u001b[0m\u001b[0mdisplay\u001b[0m\u001b[1;33m)\u001b[0m\u001b[1;33m\u001b[0m\u001b[1;33m\u001b[0m\u001b[0m\n\u001b[0m\u001b[0;32m     60\u001b[0m \u001b[1;33m\u001b[0m\u001b[0m\n\u001b[0;32m     61\u001b[0m     \u001b[1;32mif\u001b[0m \u001b[0mprotocol\u001b[0m \u001b[1;33m==\u001b[0m \u001b[1;34m'tcp'\u001b[0m \u001b[1;32mand\u001b[0m \u001b[1;32mnot\u001b[0m \u001b[0mhost\u001b[0m\u001b[1;33m:\u001b[0m\u001b[1;33m\u001b[0m\u001b[1;33m\u001b[0m\u001b[0m\n",
      "\u001b[1;31mDisplayNameError\u001b[0m: Bad display name \"\""
     ]
    }
   ],
   "source": [
    "from Xlib import display\n",
    "data = display.Display().screen().root.query_pointer()._data\n",
    "locationtuple = (data[\"root_x\"], data[\"root_y\"])"
   ]
  },
  {
   "cell_type": "code",
   "execution_count": 13,
   "id": "e971b18a",
   "metadata": {},
   "outputs": [
    {
     "name": "stdout",
     "output_type": "stream",
     "text": [
      "Collecting python-xlib\n",
      "  Downloading python_xlib-0.33-py2.py3-none-any.whl (182 kB)\n",
      "Requirement already satisfied: six>=1.10.0 in c:\\users\\sbuca\\anaconda33\\lib\\site-packages (from python-xlib) (1.16.0)\n",
      "Installing collected packages: python-xlib\n",
      "Successfully installed python-xlib-0.33\n",
      "Note: you may need to restart the kernel to use updated packages.\n"
     ]
    }
   ],
   "source": [
    "pip install python-xlib"
   ]
  },
  {
   "cell_type": "code",
   "execution_count": 5,
   "id": "38efcdaf",
   "metadata": {},
   "outputs": [],
   "source": [
    "pyautogui.press('space')"
   ]
  },
  {
   "cell_type": "code",
   "execution_count": 17,
   "id": "42725a04",
   "metadata": {},
   "outputs": [
    {
     "data": {
      "text/plain": [
       "(714.0, 939.0)"
      ]
     },
     "execution_count": 17,
     "metadata": {},
     "output_type": "execute_result"
    }
   ],
   "source": [
    "coors"
   ]
  },
  {
   "cell_type": "code",
   "execution_count": 20,
   "id": "e4241686",
   "metadata": {},
   "outputs": [],
   "source": [
    "pyautogui.click(coors)"
   ]
  },
  {
   "cell_type": "code",
   "execution_count": 6,
   "id": "3f647c86",
   "metadata": {},
   "outputs": [
    {
     "ename": "NameError",
     "evalue": "name 'df' is not defined",
     "output_type": "error",
     "traceback": [
      "\u001b[1;31m---------------------------------------------------------------------------\u001b[0m",
      "\u001b[1;31mNameError\u001b[0m                                 Traceback (most recent call last)",
      "\u001b[1;32m<ipython-input-6-7fca844e601b>\u001b[0m in \u001b[0;36m<module>\u001b[1;34m\u001b[0m\n\u001b[1;32m----> 1\u001b[1;33m \u001b[0mresults\u001b[0m \u001b[1;33m=\u001b[0m \u001b[0mlocate_text\u001b[0m\u001b[1;33m(\u001b[0m\u001b[0mdf\u001b[0m\u001b[1;33m,\u001b[0m \u001b[1;34m\"add favorite\"\u001b[0m\u001b[1;33m)\u001b[0m\u001b[1;33m\u001b[0m\u001b[1;33m\u001b[0m\u001b[0m\n\u001b[0m",
      "\u001b[1;31mNameError\u001b[0m: name 'df' is not defined"
     ]
    }
   ],
   "source": [
    "results = locate_text(df, \"add favorite\")"
   ]
  },
  {
   "cell_type": "code",
   "execution_count": 168,
   "id": "bfaf5e8a",
   "metadata": {},
   "outputs": [
    {
     "data": {
      "text/plain": [
       "[]"
      ]
     },
     "execution_count": 168,
     "metadata": {},
     "output_type": "execute_result"
    }
   ],
   "source": [
    "results"
   ]
  },
  {
   "cell_type": "code",
   "execution_count": 155,
   "id": "572f3403",
   "metadata": {},
   "outputs": [
    {
     "data": {
      "text/plain": [
       "80"
      ]
     },
     "execution_count": 155,
     "metadata": {},
     "output_type": "execute_result"
    }
   ],
   "source": [
    "fuzz.ratio(\"bioshockremasteredbioshock\", \"bioshock2remastered\")"
   ]
  },
  {
   "cell_type": "code",
   "execution_count": 44,
   "id": "b4cb9dda",
   "metadata": {},
   "outputs": [
    {
     "name": "stdout",
     "output_type": "stream",
     "text": [
      "bioshock2 ['bioshock', '2']\n",
      "94 59\n",
      "94 59\n",
      "94 100\n",
      "Found:  bioshock2\n",
      "94 100\n",
      "Found:  bioshock2\n",
      "94 64\n"
     ]
    },
    {
     "data": {
      "text/plain": [
       "[['bioshock', 47, 642],\n",
       " ['bioshock', 25, 667],\n",
       " ['bioshock', 50, 668],\n",
       " ['bioshock2', 50, 692],\n",
       " ['bioshock2', 50, 716],\n",
       " ['bioshock', 24, 737],\n",
       " ['bioshock', 50, 740]]"
      ]
     },
     "execution_count": 44,
     "metadata": {},
     "output_type": "execute_result"
    }
   ],
   "source": [
    "locate_text(results, \"bioshock 2\")"
   ]
  },
  {
   "cell_type": "code",
   "execution_count": null,
   "id": "89e2b444",
   "metadata": {},
   "outputs": [],
   "source": []
  },
  {
   "cell_type": "code",
   "execution_count": null,
   "id": "67673346",
   "metadata": {},
   "outputs": [],
   "source": []
  },
  {
   "cell_type": "code",
   "execution_count": null,
   "id": "64e5d59c",
   "metadata": {},
   "outputs": [],
   "source": []
  },
  {
   "cell_type": "code",
   "execution_count": null,
   "id": "c1485ad9",
   "metadata": {},
   "outputs": [],
   "source": []
  },
  {
   "cell_type": "code",
   "execution_count": null,
   "id": "e4933ee2",
   "metadata": {},
   "outputs": [],
   "source": [
    "#If we search for bioshock 2 it will return bioshock because it is like 95% similar to bioshock 2"
   ]
  },
  {
   "cell_type": "code",
   "execution_count": 16,
   "id": "24c6399e",
   "metadata": {},
   "outputs": [
    {
     "data": {
      "text/plain": [
       "(76, 648)"
      ]
     },
     "execution_count": 16,
     "metadata": {},
     "output_type": "execute_result"
    }
   ],
   "source": [
    "c"
   ]
  },
  {
   "cell_type": "code",
   "execution_count": 164,
   "id": "57619b0c",
   "metadata": {},
   "outputs": [],
   "source": [
    "pyautogui.click(50, 716)"
   ]
  },
  {
   "cell_type": "code",
   "execution_count": null,
   "id": "28963df9",
   "metadata": {},
   "outputs": [],
   "source": [
    "#So maybe only gray on white images is a good first check then if not found we use the binarized version"
   ]
  },
  {
   "cell_type": "code",
   "execution_count": null,
   "id": "646ae540",
   "metadata": {},
   "outputs": [],
   "source": []
  },
  {
   "cell_type": "code",
   "execution_count": null,
   "id": "abeeb444",
   "metadata": {},
   "outputs": [],
   "source": []
  },
  {
   "cell_type": "code",
   "execution_count": null,
   "id": "80d0b539",
   "metadata": {},
   "outputs": [],
   "source": []
  },
  {
   "cell_type": "code",
   "execution_count": null,
   "id": "0ef48342",
   "metadata": {},
   "outputs": [],
   "source": []
  },
  {
   "cell_type": "code",
   "execution_count": null,
   "id": "69b4b8cc",
   "metadata": {},
   "outputs": [],
   "source": []
  },
  {
   "cell_type": "code",
   "execution_count": null,
   "id": "1a0b897d",
   "metadata": {},
   "outputs": [],
   "source": []
  },
  {
   "cell_type": "code",
   "execution_count": null,
   "id": "7d3cf34e",
   "metadata": {},
   "outputs": [],
   "source": []
  },
  {
   "cell_type": "code",
   "execution_count": null,
   "id": "862be9b6",
   "metadata": {},
   "outputs": [],
   "source": []
  },
  {
   "cell_type": "code",
   "execution_count": null,
   "id": "130abe67",
   "metadata": {},
   "outputs": [],
   "source": []
  },
  {
   "cell_type": "code",
   "execution_count": 12,
   "id": "14e750d6",
   "metadata": {},
   "outputs": [],
   "source": [
    "#Refactoring"
   ]
  },
  {
   "cell_type": "code",
   "execution_count": null,
   "id": "2a8c6236",
   "metadata": {},
   "outputs": [],
   "source": [
    "from PIL import Image\n",
    "from pytesseract import pytesseract\n",
    "import pyautogui\n",
    "import os\n",
    "import webbrowser\n",
    "import pandas as pd\n",
    "import cv2\n",
    "import numpy as np\n",
    "from pytesseract import Output\n",
    "import imutils\n",
    "import string \n",
    "from thefuzz import fuzz\n",
    "from Levenshtein import distance, ratio\n",
    "from numba import njit\n",
    "\n",
    "current_dir = os.getcwd()\n",
    "path_to_tesseract = current_dir + r\"\\\\Tesseract-OCR\\tesseract.exe\" #will fail in jupyter folder\n",
    "\n",
    "pytesseract.tesseract_cmd = path_to_tesseract\n",
    "\n",
    "\n",
    "def clean_word(word):\n",
    "    for char in word:\n",
    "        if char in string.punctuation:\n",
    "            word = word.replace(char, \"\")\n",
    "            \n",
    "    for char in word:\n",
    "        if not char.isalnum():\n",
    "            word = word.replace(char, \"\")\n",
    "            \n",
    "    return word.strip().lower()\n",
    "\n",
    "\n",
    "def clean_df(df):\n",
    "    df['text'] = df['text'].apply(lambda x: clean_word(x))\n",
    "    \n",
    "    for i, row in df.iterrows():\n",
    "        if row['text'] == \"\":\n",
    "            df.at[i, 'text'] = np.nan\n",
    "            \n",
    "    df.dropna(inplace=True)\n",
    "    df.reset_index(inplace=True)\n",
    "    \n",
    "    #pad dataframe for later use\n",
    "    for _ in range(3):\n",
    "        df = df.append(pd.Series(\"endofdataframe\", index=df.columns), ignore_index=True)\n",
    "        \n",
    "    return df\n",
    "\n",
    "\n",
    "\n",
    "@njit\n",
    "def check_image_background(img):\n",
    "    \"\"\"Checks if a screenshots background is mainly white\n",
    "        Will not invert if it is mainly white, changing a\n",
    "        white photo to black will reduce performance because in\n",
    "        docs it says algo performs best on white backgrounds\"\"\"\n",
    "    score = 0\n",
    "    PIXEL_MIN = 240\n",
    "    SCORE_THRESHOLD = 0.7\n",
    "\n",
    "\n",
    "    height, width, _ = img.shape\n",
    "    print(height, width)\n",
    "    \n",
    "    for i in range(height):\n",
    "        for j in range(width):\n",
    "            if img[i, j][0] >= PIXEL_MIN and img[i, j][1] >=  PIXEL_MIN and img[i, j][2] >= PIXEL_MIN:\n",
    "                score = score + 1\n",
    "                \n",
    "    if (score / (height*width)) < SCORE_THRESHOLD:\n",
    "        return 1\n",
    "    \n",
    "    return 0\n",
    "\n",
    "\n",
    "\n",
    "### PROCESSING OPTIONS ###\n",
    "## BINARIZATION METHODS ## - Can fine tune each\n",
    "#1 thresh, im_bw = cv2.threshold(gray_image, 210, 230, cv2.THRESH_BINARY)\n",
    "#2 th2 = cv2.adaptiveThreshold(img,255,cv2.ADAPTIVE_THRESH_MEAN_C, cv2.THRESH_BINARY,11,2)\n",
    "#3 th3 = cv2.adaptiveThreshold(img,255,cv2.ADAPTIVE_THRESH_GAUSSIAN_C,cv2.THRESH_BINARY,11,2)\n",
    "\n",
    "#Otsu Binarization\n",
    "\n",
    "# Otsu's thresholding\n",
    "#ret2,th2 = cv2.threshold(img,0,255,cv2.THRESH_BINARY+cv2.THRESH_OTSU)\n",
    "\n",
    "# Otsu's thresholding after Gaussian filtering\n",
    "#blur = cv.GaussianBlur(img,(5,5),0)\n",
    "#ret3,th3 = cv2.threshold(blur,0,255,cv2.THRESH_BINARY+cv2.THRESH_OTSU)\n",
    "\n",
    "\n",
    "## Noise Removal ##\n",
    "def noise_removal(image):\n",
    "    kernel = np.ones((1, 1), np.uint8)\n",
    "    image = cv2.dilate(image, kernel, iterations=1)\n",
    "    kernel = np.ones((1, 1), np.uint8)\n",
    "    image = cv2.erode(image, kernel, iterations=1)\n",
    "    image = cv2.morphologyEx(image, cv2.MORPH_CLOSE, kernel)\n",
    "    image = cv2.medianBlur(image, 3)\n",
    "    return (image)\n",
    "\n",
    "\n",
    "def thick_font(image):\n",
    "    import numpy as np\n",
    "    image = cv2.bitwise_not(image)\n",
    "    kernel = np.ones((2,2),np.uint8)\n",
    "    image = cv2.dilate(image, kernel, iterations=1)\n",
    "    image = cv2.bitwise_not(image)\n",
    "    return (image)\n",
    "\n",
    "#IDEA FOR BLACK -> OLD METHOD invert then gray (213 items found on spoitfy songs like clair)\n",
    "#1 INVERT\n",
    "#2 GRAYSCALE\n",
    "#3 BINARIZATION -> Gaussian\n",
    "#Lots of noise after this method but 246 items found\n",
    "#After trying noise removal or thick font -> Do not use, bad\n",
    "\n",
    "\n",
    "#IDEA FOR WHITE BACKground\n",
    "#1 convert grayscale\n",
    "#2 some for of binarization\n",
    "#3 remove noise from binarization\n",
    "# Best Process so far -> gray then adaptive thresh mean (gray adaptive mean thick font 474 items found on page)\n",
    "# Runner Up -> gray then adaptive thresh mean then thick font (gray adaptive mean thick font 440 items found on page)\n",
    "#Both are great actually must test more\n",
    "\n",
    "\n",
    "\n",
    "def preprocesser(file_path):\n",
    "    \"\"\"Allows for different preprocessing techniques to be added\n",
    "    onto our input image to improve tesseract\"\"\"\n",
    "    \n",
    "    \n",
    "    base_image = cv2.imread(file_path)\n",
    "    \n",
    "    #Current process inverts mainly black screenshots and coverts to grayscale\n",
    "    #Same process for white but no inverting (try binarization for white)\n",
    "    \n",
    "    #Black backgroun\n",
    "    if check_image_background(base_image):\n",
    "        print(\"image mainly black inverting\")\n",
    "        inverted_image = cv2.bitwise_not(base_image)\n",
    "        gray_image = cv2.cvtColor(inverted_image, cv2.COLOR_BGR2GRAY)\n",
    "        binarized_image = cv2.adaptiveThreshold(gray_image,255,cv2.ADAPTIVE_THRESH_GAUSSIAN_C,cv2.THRESH_BINARY,11,2)\n",
    "\n",
    "        return gray_image\n",
    "        \n",
    "    #White background\n",
    "    else:\n",
    "        print(\"image mainly white no inversion\")\n",
    "        gray_image = cv2.cvtColor(base_image, cv2.COLOR_BGR2GRAY)\n",
    "        binarized_image_mean = cv2.adaptiveThreshold(gray_image,255,cv2.ADAPTIVE_THRESH_MEAN_C, cv2.THRESH_BINARY,11,2) #Solid but not great\n",
    "        binarized_image_gauss = cv2.adaptiveThreshold(gray_image,255,cv2.ADAPTIVE_THRESH_GAUSSIAN_C,cv2.THRESH_BINARY,11,2) #Better\n",
    "        \n",
    "        #Both are actually good must test more and maybe adjust so the colors blue and orange get changed wht & nt blk\n",
    "        \n",
    "        return gray_image\n",
    "\n",
    "\n",
    "def preprocesser2(file_path):\n",
    "    \"\"\"Exact same as preprocessor but if screen is white we do the black operations \"\"\"\n",
    "    \n",
    "    \n",
    "    base_image = cv2.imread(file_path)\n",
    "    \n",
    "    #Current process inverts mainly black screenshots and coverts to grayscale\n",
    "    #Same process for white but no inverting (try binarization for white)\n",
    "    \n",
    "    #Black backgroun\n",
    "    if check_image_background(base_image):\n",
    "        print(\"white\")\n",
    "        gray_image = cv2.cvtColor(base_image, cv2.COLOR_BGR2GRAY)\n",
    "        binarized_image_mean = cv2.adaptiveThreshold(gray_image,255,cv2.ADAPTIVE_THRESH_MEAN_C, cv2.THRESH_BINARY,11,2) #Solid but not great\n",
    "        binarized_image_gauss = cv2.adaptiveThreshold(gray_image,255,cv2.ADAPTIVE_THRESH_GAUSSIAN_C,cv2.THRESH_BINARY,11,2) #Better\n",
    "        \n",
    "        return gray_image\n",
    "        \n",
    "    #White background\n",
    "    else:\n",
    "        print(\"black\")\n",
    "        inverted_image = cv2.bitwise_not(base_image)\n",
    "        gray_image = cv2.cvtColor(inverted_image, cv2.COLOR_BGR2GRAY)\n",
    "        binarized_image = cv2.adaptiveThreshold(gray_image,255,cv2.ADAPTIVE_THRESH_GAUSSIAN_C,cv2.THRESH_BINARY,11,2)\n",
    "\n",
    "        return gray_image\n",
    "\n",
    "\n",
    "def process_image(file_path):\n",
    "    psm_version = \"--psm 11\"\n",
    "    \n",
    "    preprocessed_image = preprocesser(file_path)\n",
    "    image_df = pd.DataFrame(pytesseract.image_to_data(preprocessed_image, output_type=Output.DICT, config=psm_version))\n",
    "\n",
    "    # n_boxes = len(image_df['level'])\n",
    "    # for i in range(n_boxes):\n",
    "    #     (x, y, w, h) = (image_df['left'][i], image_df['top'][i], image_df['width'][i], image_df['height'][i])\n",
    "    #     cv2.rectangle(preprocessed_image, (x, y), (x + w, y + h), (0,0,0), 2)\n",
    "\n",
    "    # cv2.imshow('img', preprocessed_image)\n",
    "    # cv2.waitKey(0)\n",
    "\n",
    "    \n",
    "    image_df = clean_df(image_df)\n",
    "\n",
    "    return image_df\n",
    "\n",
    "\n",
    "def process_image2(file_path):\n",
    "    psm_version = \"--psm 11\"\n",
    "    \n",
    "    preprocessed_image = preprocesser2(file_path)\n",
    "    image_df = pd.DataFrame(pytesseract.image_to_data(preprocessed_image, output_type=Output.DICT, config=psm_version))\n",
    "\n",
    "    # n_boxes = len(image_df['level'])\n",
    "    # for i in range(n_boxes):\n",
    "    #     (x, y, w, h) = (image_df['left'][i], image_df['top'][i], image_df['width'][i], image_df['height'][i])\n",
    "    #     cv2.rectangle(preprocessed_image, (x, y), (x + w, y + h), (0,0,0), 2)\n",
    "\n",
    "    # cv2.imshow('img', preprocessed_image)\n",
    "    # cv2.waitKey(0)\n",
    "\n",
    "    \n",
    "    image_df = clean_df(image_df)\n",
    "\n",
    "    return image_df\n",
    "\n",
    "\n",
    "def process_coordinates(text_row):\n",
    "    x = text_row['left'] + (text_row['width'] // 1.5)\n",
    "    y = text_row['top'] + (text_row['height'] // 1.5)\n",
    "    \n",
    "    return x, y\n",
    "\n",
    "\n",
    "#Now take image data and find worddef locate_text(df, text):\n",
    "def locate_text(df, text):\n",
    "    results = []\n",
    "\n",
    "    stripped_text = \"\".join(text.lower().split())\n",
    "    split_text = text.split()\n",
    "    print(stripped_text, split_text)\n",
    "    \n",
    "    for i, row in df.iterrows():\n",
    "        word = row['text']\n",
    "\n",
    "        #print(word)\n",
    "\n",
    "        second_word = df.iloc[i+1]['text']\n",
    "\n",
    "        initial_fuzz = fuzz.ratio(word, stripped_text)\n",
    "        second_fuzz = fuzz.ratio((word+second_word), stripped_text)\n",
    "        \n",
    "        if word == \"endofdataframe\":\n",
    "            break\n",
    "            \n",
    "        if initial_fuzz >= 80:\n",
    "            print(initial_fuzz, second_fuzz)\n",
    "            if initial_fuzz < second_fuzz:\n",
    "                results.append([(word+second_word), process_coordinates(row), second_fuzz])\n",
    "                print(\"Found: \", (word+second_word))\n",
    "                \n",
    "            else:\n",
    "                results.append([word, process_coordinates(row), initial_fuzz])\n",
    "\n",
    "\n",
    "        if second_fuzz >= 80 and initial_fuzz < 80:\n",
    "            print(initial_fuzz, second_fuzz)\n",
    "            results.append([(word+second_word), process_coordinates(row), second_fuzz])\n",
    "                \n",
    "                \n",
    "        else:\n",
    "            if word in split_text[0] or split_text[0] in word: #may need to do partial_ratio(split_text[0], word)\n",
    "                word = word\n",
    "                second_word = word + df.iloc[i+1]['text']\n",
    "                \n",
    "                r1 = fuzz.ratio(word, stripped_text)\n",
    "                r2 = fuzz.ratio(second_word, stripped_text)\n",
    "                \n",
    "                j = i + 2 #sets j to current word in df\n",
    "                count = 0\n",
    "                \n",
    "                while r2 >= r1:\n",
    "                    word = second_word\n",
    "                    second_word = word + df.iloc[j]['text']\n",
    "                    \n",
    "                    r1 = fuzz.ratio(word, stripped_text)\n",
    "                    r2 = fuzz.ratio(second_word, stripped_text)\n",
    "                    \n",
    "                    if r2 >= 80:\n",
    "                        results.append([second_word, process_coordinates(row), r2])\n",
    "                        print(second_word)\n",
    "                    \n",
    "                    word = second_word\n",
    "                    #print(word)\n",
    "                \n",
    "                    count += 1\n",
    "                    j+=1\n",
    "                \n",
    "    return results\n",
    "\n",
    "\n",
    "def find_best_location(r1, r2, text):\n",
    "    \"\"\"Given a list of text coordinates, returns the most accurate texts location\"\"\"\n",
    "    results = []\n",
    "    [results.append(location) for location in r1]\n",
    "    [results.append(location) for location in r2]\n",
    "\n",
    "    print(results)\n",
    "\n",
    "    highest_fuzz = 0\n",
    "    for location in results:\n",
    "        print(location)\n",
    "        highest_fuzz = max(highest_fuzz, location[2])\n",
    "\n",
    "\n",
    "    print(highest_fuzz)\n",
    "\n",
    "\n",
    "    for location in results:\n",
    "        if location[2] == highest_fuzz:\n",
    "            return location\n",
    "            \n",
    "            \n",
    "            \n",
    "def text_coordinates(image_path, text):\n",
    "    df = process_image(image_path)\n",
    "    df2 = process_image2(image_path)\n",
    "\n",
    "    results = locate_text(df,text)\n",
    "    results2 = locate_text(df2,text)\n",
    "\n",
    "\n",
    "    print(results, results2)\n",
    "    \n",
    "    target = find_best_location(results, results2)\n",
    "\n",
    "    return target\n",
    "    #return (status, coors, df)\n",
    "\n",
    "\n",
    "if __name__ == \"__main__\":\n",
    "    text_coordinates(image_path, text)"
   ]
  }
 ],
 "metadata": {
  "kernelspec": {
   "display_name": "Python 3",
   "language": "python",
   "name": "python3"
  },
  "language_info": {
   "codemirror_mode": {
    "name": "ipython",
    "version": 3
   },
   "file_extension": ".py",
   "mimetype": "text/x-python",
   "name": "python",
   "nbconvert_exporter": "python",
   "pygments_lexer": "ipython3",
   "version": "3.8.8"
  }
 },
 "nbformat": 4,
 "nbformat_minor": 5
}
