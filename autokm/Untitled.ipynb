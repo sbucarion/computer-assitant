{
 "cells": [
  {
   "cell_type": "code",
   "execution_count": 5,
   "id": "1a6a0b83",
   "metadata": {},
   "outputs": [],
   "source": [
    "from .input_listener import input_detector\n",
    "from .process_image import text_coordinates\n",
    "\n",
    "import os\n",
    "import pyautogui\n",
    "from pytesseract import pytesseract\n",
    "from numba import njit\n",
    "from thefuzz import fuzz\n",
    "from datetime import datetime\n",
    "import wmi\n",
    "\n",
    "\n",
    "def create_tesseract_path():\n",
    "    current_dir = os.getcwd()\n",
    "    print(current_dir)\n",
    "    path_to_tesseract = current_dir + r\"\\Tesseract-OCR\\tesseract.exe\" #will fail in jupyter folder\n",
    "\n",
    "    print(path_to_tesseract)\n",
    "    print(os.path.exists(path_to_tesseract))\n",
    "    pytesseract.tesseract_cmd = path_to_tesseract\n",
    "\n",
    "\n",
    "def get_screenshot_dir():\n",
    "    current_dir = os.getcwd()\n",
    "    \n",
    "    print(current_dir)\n",
    "    \n",
    "    screenshot_dir = current_dir + \"\\\\screenshot_folder\"\n",
    "    \n",
    "    if not screenshot_dir:\n",
    "        os.mkdir(screenshot_dir)\n",
    "        \n",
    "    else:\n",
    "        return screenshot_dir\n",
    "    \n",
    "\n",
    "def click_on_command(command):\n",
    "    command = command.lower()\n",
    "    \n",
    "    screenshot_dir = get_screenshot_dir()\n",
    "    \n",
    "    screenshot_file = screenshot_dir + \"\\\\auto_screenshot.png\"\n",
    "    print(screenshot_file)\n",
    "    image = pyautogui.screenshot(screenshot_file)\n",
    "    results = text_coordinates(screenshot_file, command)\n",
    "    \n",
    "    if results is not None:\n",
    "        coors = results[1]\n",
    "        print(coors)\n",
    "        #pyautogui.click(coors)\n",
    "\n",
    "    else:\n",
    "        return \"not found\""
   ]
  },
  {
   "cell_type": "code",
   "execution_count": 6,
   "id": "91c20648",
   "metadata": {},
   "outputs": [
    {
     "name": "stdout",
     "output_type": "stream",
     "text": [
      "C:\\Users\\sbuca\\Documents\\pierre\\autokm\n",
      "C:\\Users\\sbuca\\Documents\\pierre\\autokm\\screenshot_folder\\auto_screenshot.png\n",
      "1080 1920\n",
      "image mainly black inverting\n",
      "1080 1920\n",
      "white\n",
      "genre ['genre']\n",
      "100 59\n",
      "genre ['genre']\n",
      "100 59\n",
      "[['genre', (45.0, 423.0), 100]] [['genre', (45.0, 423.0), 100]]\n",
      "[['genre', (45.0, 423.0), 100], ['genre', (45.0, 423.0), 100]]\n",
      "['genre', (45.0, 423.0), 100]\n",
      "['genre', (45.0, 423.0), 100]\n",
      "100\n",
      "(45.0, 423.0)\n"
     ]
    }
   ],
   "source": [
    "click_on_command(\"genre\")"
   ]
  },
  {
   "cell_type": "code",
   "execution_count": null,
   "id": "9ce968fd",
   "metadata": {},
   "outputs": [],
   "source": []
  }
 ],
 "metadata": {
  "kernelspec": {
   "display_name": "Python 3",
   "language": "python",
   "name": "python3"
  },
  "language_info": {
   "codemirror_mode": {
    "name": "ipython",
    "version": 3
   },
   "file_extension": ".py",
   "mimetype": "text/x-python",
   "name": "python",
   "nbconvert_exporter": "python",
   "pygments_lexer": "ipython3",
   "version": "3.8.8"
  }
 },
 "nbformat": 4,
 "nbformat_minor": 5
}
